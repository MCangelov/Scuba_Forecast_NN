{
 "cells": [
  {
   "cell_type": "markdown",
   "metadata": {},
   "source": [
    "GeoPandas for visualization of the data and interactivity with it."
   ]
  }
 ],
 "metadata": {
  "language_info": {
   "name": "python"
  },
  "orig_nbformat": 4
 },
 "nbformat": 4,
 "nbformat_minor": 2
}
